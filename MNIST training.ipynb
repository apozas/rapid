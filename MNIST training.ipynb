{
 "cells": [
  {
   "cell_type": "markdown",
   "metadata": {},
   "source": [
    "# Efficient training of energy-based models via spin-glass control [(arXiv:1910.01592)](https://arxiv.org/abs/1910.01592)\n",
    "---\n",
    "\n",
    "## Training on MNIST\n",
    "\n",
    "**Authors**: Gorka Muñoz-Gil and Alejandro Pozas-Kerstjens\n",
    "\n",
    "In this notebook we show how to train a RA-PID model on the MNIST dataset for generative purposes. For all the details on its theory, please take a look at [the associated paper](https://arxiv.org/abs/1910.01592). The example we show here corresponds to the models used to generate Fig. 6 from that paper.\n",
    "\n",
    "Let's get into work. First, you will need to get two repositories: [ebm](https://github.com/apozas/ebm-torch), from which our models are created and [rapid](https://github.com/apozas/rapid), which contains all the details on training with RA and PID. This notebook should be placed on the same folder both repositories have been cloned, as:\n",
    "```\n",
    "your_folder\n",
    "│   rapid\n",
    "│   ebm\n",
    "│   MNIST training.ipynb\n",
    "```\n",
    "\n",
    "We will then load the following objects:"
   ]
  },
  {
   "cell_type": "code",
   "execution_count": 2,
   "metadata": {},
   "outputs": [],
   "source": [
    "from rapid.rapid import RA_RBM"
   ]
  },
  {
   "cell_type": "markdown",
   "metadata": {},
   "source": [
    "For complex datasets, as shown in **Section V.4.B** of the paper, RAPID can be enhanced by performing a series of Gibbs Steps (GS) to the auxiliary patterns. Moreover, we will consider continuos patterns, restricted to the range $[-1,1]$. We must update our imported RA model in order to do such operations:"
   ]
  },
  {
   "cell_type": "code",
   "execution_count": 3,
   "metadata": {},
   "outputs": [],
   "source": [
    "import copy\n",
    "class RA_RBM_GS(RA_RBM):\n",
    "    ''' RAPID Boltzmann machine with Gibbs Steps performed to the patterns for\n",
    "    the calculation of the negative phase'''\n",
    "    def __init__(self, n_visible=100, n_hidden=50, K=50, gibbs_steps = 0, \n",
    "                 optimizer=None, device=None, xi=None, sampler = None):\n",
    "        super().__init__(n_visible, n_hidden, K, optimizer, device, xi) \n",
    "        \n",
    "        self.gibbs_steps = gibbs_steps\n",
    "        self.sampler = sampler\n",
    "        \n",
    "    def gibbs_steps_patterns(self):\n",
    "        ''' Function that perfoms the Gibbs Steps to the patterns'''\n",
    "        zero = copy.deepcopy(self.xi)\n",
    "        for i in range(self.gibbs_steps):            \n",
    "            zero[:, self.n_visible:] = self.sampler.get_h_from_v(\n",
    "                                                       zero[:, :self.n_visible],\n",
    "                                                       self.weights,\n",
    "                                                       self.hbias)\n",
    "            zero[:, :self.n_visible] = self.sampler.get_v_from_h(\n",
    "                                                       zero[:, self.n_visible:],\n",
    "                                                       self.weights,\n",
    "                                                       self.vbias)  \n",
    "        return zero[:, :self.n_visible]     \n",
    "        \n",
    "    def train(self, input_data):\n",
    "        ''' Adapt usual training to get the negative phase by the\n",
    "        function gibbs_steps_patterns'''\n",
    "        \n",
    "        for b, batch in enumerate(input_data):\n",
    "            \n",
    "            # Get data, positive and negative phase\n",
    "            sample_data = batch.float()\n",
    "            vpos = sample_data            \n",
    "            vneg = self.gibbs_steps_patterns()\n",
    "            \n",
    "            # Weight updates. Includes momentum and weight decay if necessary\n",
    "            xi_update = self.optimizer.get_updates(vpos, vneg, self.xi)            \n",
    "            self.xi += xi_update            \n",
    "            \n",
    "            # Restrict the patterns to the range +- 1\n",
    "            self.xi[self.xi > 1] = 1\n",
    "            self.xi[self.xi < -1] = -1\n",
    "                    \n",
    "            # Generate new weights from the patterns\n",
    "            self.get_params()"
   ]
  },
  {
   "cell_type": "markdown",
   "metadata": {},
   "source": [
    "Now we import the rest of necessary functions:"
   ]
  },
  {
   "cell_type": "code",
   "execution_count": 4,
   "metadata": {},
   "outputs": [],
   "source": [
    "from rapid.rapid import SGD_xi, ContrastiveDivergence_pm as CD"
   ]
  },
  {
   "cell_type": "markdown",
   "metadata": {},
   "source": [
    "We will also need some general modules:"
   ]
  },
  {
   "cell_type": "code",
   "execution_count": 5,
   "metadata": {},
   "outputs": [],
   "source": [
    "import torch\n",
    "from torchvision import datasets\n",
    "from torchvision.transforms import Lambda\n",
    "from tqdm import tqdm"
   ]
  },
  {
   "cell_type": "markdown",
   "metadata": {},
   "source": [
    "Now we import the MNIST dataset from `torchvision`. We will normalize it and create a validation dataset. To start, you should choose in which device (CPU or GPU) you want the model to train on."
   ]
  },
  {
   "cell_type": "code",
   "execution_count": 12,
   "metadata": {},
   "outputs": [],
   "source": [
    "# Choose device\n",
    "gpu    = True     \n",
    "device = torch.device('cuda' if gpu and torch.cuda.is_available() else 'cpu')\n",
    "\n",
    "# Load the data from torchvision\n",
    "threshold  = lambda x: (x > 0.3)\n",
    "normalize  = lambda x: x / 255\n",
    "data_mnist = datasets.MNIST('mnist', train=True, download=True)\n",
    "data = data_mnist.train_data.type(torch.float)\n",
    "\n",
    "# Normalize the data\n",
    "data = torch.FloatTensor(data)\n",
    "data = Lambda(normalize)(data)\n",
    "data = Lambda(threshold)(data).type(torch.float)\n",
    "data_transformed = (2 * (data.view((-1, 28**2))) - 1).to(device)   \n",
    "\n",
    "# Create a validation set\n",
    "ratio_val = 0.95\n",
    "data = data_transformed[:int(len(data_transformed)*ratio_val)]\n",
    "val_set = data_transformed[int(len(data_transformed)*ratio_val):]"
   ]
  },
  {
   "cell_type": "markdown",
   "metadata": {},
   "source": [
    "Next, we set our machine:"
   ]
  },
  {
   "cell_type": "code",
   "execution_count": 32,
   "metadata": {},
   "outputs": [],
   "source": [
    "hidd          = 3000     # Number of nodes in the hidden layer\n",
    "vis           = 28**2    # Number of nodes in the visible layer\n",
    "K_hebb        = 200      # Number of auxiliary patterns\n",
    "learning_rate = 0.015    # Learning rate\n",
    "epochs        = 500      # Number of training epochs\n",
    "batch_size    = 8000     # Batch size\n",
    "gibbs_steps   = 1        # Number of Gibbs Steps to the auxiliary patterns\n",
    "\n",
    "rbm = RA_RBM_GS(n_visible=vis,\n",
    "                n_hidden=hidd,\n",
    "                sampler=CD(k=1),    # k is not used in this example\n",
    "                optimizer=SGD_xi(learning_rate),\n",
    "                device=device,\n",
    "                K=K_hebb,\n",
    "                gibbs_steps=gibbs_steps \n",
    "                ).to(device)"
   ]
  },
  {
   "cell_type": "markdown",
   "metadata": {},
   "source": [
    "Now we train:"
   ]
  },
  {
   "cell_type": "code",
   "execution_count": 34,
   "metadata": {},
   "outputs": [
    {
     "name": "stderr",
     "output_type": "stream",
     "text": [
      "100%|██████████| 500/500 [02:34<00:00,  3.25it/s]\n"
     ]
    }
   ],
   "source": [
    "for epoch in tqdm(range(epochs)):\n",
    "    train_loader = torch.utils.data.DataLoader(data,\n",
    "                                               batch_size=int(batch_size),\n",
    "                                               shuffle=True)\n",
    "    rbm.train(train_loader)\n",
    "    \n",
    "    if epoch > 100 and rbm.optimizer.learning_rate > 1e-3:\n",
    "            rbm.optimizer.learning_rate *= 0.99"
   ]
  },
  {
   "cell_type": "markdown",
   "metadata": {},
   "source": [
    "And finally we generate new images by Gibbs sampling, recycling the model's sampler (`CD` in this particular example)."
   ]
  },
  {
   "cell_type": "code",
   "execution_count": 35,
   "metadata": {},
   "outputs": [
    {
     "data": {
      "image/png": "[encoded data removed]",
      "text/plain": [
       "<Figure size 720x720 with 25 Axes>"
      ]
     },
     "metadata": {
      "needs_background": "light"
     },
     "output_type": "display_data"
    }
   ],
   "source": [
    "from matplotlib import pyplot as plt\n",
    "\n",
    "fig, axes = plt.subplots(5, 5, figsize=(10, 10))\n",
    "for i, ax in enumerate(axes.flatten()):\n",
    "    zero = torch.randint(high=2, size=(1, 28**2))\n",
    "    zero = (2 * zero - 1).type(torch.FloatTensor).to(device)   \n",
    "    for i in range(200):\n",
    "        zero = rbm.sampler.get_h_from_v(zero, rbm.weights, rbm.hbias)\n",
    "        zero = rbm.sampler.get_v_from_h(zero, rbm.weights, rbm.vbias)\n",
    "    ax.imshow(zero.detach().cpu().numpy().reshape(28,28), cmap='gray')\n",
    "    ax.set_axis_off()"
   ]
  }
 ],
 "metadata": {
  "kernelspec": {
   "display_name": "Python 3",
   "language": "python",
   "name": "python3"
  },
  "language_info": {
   "codemirror_mode": {
    "name": "ipython",
    "version": 3
   },
   "file_extension": ".py",
   "mimetype": "text/x-python",
   "name": "python",
   "nbconvert_exporter": "python",
   "pygments_lexer": "ipython3",
   "version": "3.7.9"
  }
 },
 "nbformat": 4,
 "nbformat_minor": 4
}
